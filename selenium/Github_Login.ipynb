{
 "cells": [
  {
   "cell_type": "markdown",
   "id": "d879fdc4-7cc4-46c7-b9fb-be15d8f56092",
   "metadata": {},
   "source": [
    "### Github signin"
   ]
  },
  {
   "cell_type": "code",
   "execution_count": 61,
   "id": "a7585bd9-6156-4c58-9827-3392a78a3f78",
   "metadata": {
    "tags": []
   },
   "outputs": [],
   "source": [
    "from selenium import webdriver\n",
    "from selenium.webdriver.common.by import By\n",
    "from selenium.webdriver.common.keys import Keys\n",
    "from selenium.webdriver.chrome.service import Service"
   ]
  },
  {
   "cell_type": "code",
   "execution_count": 62,
   "id": "b356064d-6732-4925-b984-1fd3cc3e377c",
   "metadata": {
    "tags": []
   },
   "outputs": [],
   "source": [
    "service = Service()\n",
    "options = webdriver.ChromeOptions()\n",
    "driver = webdriver.Chrome(service=service, options=options)\n",
    "driver.set_window_size(1920, 1080)\n",
    "driver.get(\"https://github.com\")"
   ]
  },
  {
   "cell_type": "code",
   "execution_count": 63,
   "id": "a633e449-f6e6-484b-968e-22839b1d113c",
   "metadata": {
    "tags": []
   },
   "outputs": [],
   "source": [
    "try:\n",
    "    driver.find_element(By.XPATH, \"//*[@href='/login']\").click()\n",
    "except:\n",
    "    driver.find_element(By.CLASS_NAME, \"Button-label\").click()\n",
    "    driver.find_element(By.XPATH, \"//*[@href='/login']\").click()"
   ]
  },
  {
   "cell_type": "code",
   "execution_count": 66,
   "id": "5929f4fa-fe68-4f14-9469-1639a4cef23e",
   "metadata": {
    "tags": []
   },
   "outputs": [],
   "source": [
    "driver.find_element(By.NAME, \"login\").send_keys(\"dong000403@gmail.com\")"
   ]
  },
  {
   "cell_type": "code",
   "execution_count": 67,
   "id": "d16f9508-aee7-49a4-aa4c-1cdedd4b4f64",
   "metadata": {
    "tags": []
   },
   "outputs": [],
   "source": [
    "driver.find_element(By.NAME, \"password\").send_keys(\"ehdghks10251!\")"
   ]
  },
  {
   "cell_type": "code",
   "execution_count": 68,
   "id": "227bbc5f-9c95-4198-a01c-b8bf2ea068c3",
   "metadata": {
    "tags": []
   },
   "outputs": [],
   "source": [
    "driver.find_element(By.NAME, \"commit\").click()"
   ]
  },
  {
   "cell_type": "code",
   "execution_count": 70,
   "id": "445c6561-9388-4e88-bc63-61d095927c9a",
   "metadata": {
    "tags": []
   },
   "outputs": [],
   "source": [
    "driver.quit()"
   ]
  },
  {
   "cell_type": "code",
   "execution_count": null,
   "id": "596bd3d2-9b36-4748-83af-adb1a9242ece",
   "metadata": {},
   "outputs": [],
   "source": []
  }
 ],
 "metadata": {
  "kernelspec": {
   "display_name": "Python 3 (ipykernel)",
   "language": "python",
   "name": "python3"
  },
  "language_info": {
   "codemirror_mode": {
    "name": "ipython",
    "version": 3
   },
   "file_extension": ".py",
   "mimetype": "text/x-python",
   "name": "python",
   "nbconvert_exporter": "python",
   "pygments_lexer": "ipython3",
   "version": "3.11.3"
  }
 },
 "nbformat": 4,
 "nbformat_minor": 5
}
