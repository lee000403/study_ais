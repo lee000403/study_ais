{
 "cells": [
  {
   "cell_type": "code",
   "execution_count": 50,
   "id": "537c7604-f173-4c68-bce8-e158ce4a70dd",
   "metadata": {
    "tags": []
   },
   "outputs": [],
   "source": [
    "from selenium import webdriver\n",
    "from selenium.webdriver.common.by import By\n",
    "from selenium.webdriver.common.keys import Keys\n",
    "from selenium.webdriver.chrome.service import Service"
   ]
  },
  {
   "cell_type": "code",
   "execution_count": 57,
   "id": "f5cfea3f-ac37-4d4b-8396-fd503dc8018e",
   "metadata": {
    "tags": []
   },
   "outputs": [],
   "source": [
    "service = Service()\n",
    "options = webdriver.ChromeOptions()\n",
    "driver = webdriver.Chrome(service=service, options=options)\n",
    "driver.get(\"https://www.naver.com\")"
   ]
  },
  {
   "cell_type": "code",
   "execution_count": 58,
   "id": "d53c1867-67b0-4d79-8e86-028bf09fd644",
   "metadata": {
    "tags": []
   },
   "outputs": [],
   "source": [
    "driver.find_element(By.XPATH, \"//*[@href='https://nid.naver.com/nidlogin.login?mode=form&url=https://www.naver.com/']\").click()"
   ]
  },
  {
   "cell_type": "code",
   "execution_count": 59,
   "id": "0008eb09-9695-494b-abb1-1707de71bf68",
   "metadata": {
    "tags": []
   },
   "outputs": [],
   "source": [
    "driver.find_element(By.NAME, \"id\").send_keys(\"dong000403\")"
   ]
  },
  {
   "cell_type": "code",
   "execution_count": 60,
   "id": "b835f45a-a424-400c-a6b1-2339e4729cd8",
   "metadata": {
    "tags": []
   },
   "outputs": [],
   "source": [
    "driver.find_element(By.NAME, \"pw\").send_keys(\"ehdghks10251\")"
   ]
  },
  {
   "cell_type": "code",
   "execution_count": 62,
   "id": "cf4223b2-1ac3-4318-a3a0-1479d0f98235",
   "metadata": {
    "tags": []
   },
   "outputs": [],
   "source": [
    "driver.find_element(By.CLASS_NAME, \"btn_login\").click()"
   ]
  },
  {
   "cell_type": "code",
   "execution_count": 56,
   "id": "da687c1f-f52c-4351-bb98-af29719bf4ae",
   "metadata": {
    "tags": []
   },
   "outputs": [
    {
     "ename": "NoSuchElementException",
     "evalue": "Message: no such element: Unable to locate element: {\"method\":\"xpath\",\"selector\":\"//*[@href='https://mail.naver.com']\"}\n  (Session info: chrome=116.0.5845.180); For documentation on this error, please visit: https://www.selenium.dev/documentation/webdriver/troubleshooting/errors#no-such-element-exception\nStacktrace:\n\tGetHandleVerifier [0x00007FF7FAE952A2+57122]\n\t(No symbol) [0x00007FF7FAE0EA92]\n\t(No symbol) [0x00007FF7FACDE3AB]\n\t(No symbol) [0x00007FF7FAD17D3E]\n\t(No symbol) [0x00007FF7FAD17E2C]\n\t(No symbol) [0x00007FF7FAD50B67]\n\t(No symbol) [0x00007FF7FAD3701F]\n\t(No symbol) [0x00007FF7FAD4EB82]\n\t(No symbol) [0x00007FF7FAD36DB3]\n\t(No symbol) [0x00007FF7FAD0D2B1]\n\t(No symbol) [0x00007FF7FAD0E494]\n\tGetHandleVerifier [0x00007FF7FB13EF82+2849794]\n\tGetHandleVerifier [0x00007FF7FB191D24+3189156]\n\tGetHandleVerifier [0x00007FF7FB18ACAF+3160367]\n\tGetHandleVerifier [0x00007FF7FAF26D06+653702]\n\t(No symbol) [0x00007FF7FAE1A208]\n\t(No symbol) [0x00007FF7FAE162C4]\n\t(No symbol) [0x00007FF7FAE163F6]\n\t(No symbol) [0x00007FF7FAE067A3]\n\tBaseThreadInitThunk [0x00007FFACE3026AD+29]\n\tRtlUserThreadStart [0x00007FFAD056AA68+40]\n",
     "output_type": "error",
     "traceback": [
      "\u001b[1;31m---------------------------------------------------------------------------\u001b[0m",
      "\u001b[1;31mNoSuchElementException\u001b[0m                    Traceback (most recent call last)",
      "Cell \u001b[1;32mIn[56], line 1\u001b[0m\n\u001b[1;32m----> 1\u001b[0m driver\u001b[38;5;241m.\u001b[39mfind_element(By\u001b[38;5;241m.\u001b[39mXPATH, \u001b[38;5;124m\"\u001b[39m\u001b[38;5;124m//*[@href=\u001b[39m\u001b[38;5;124m'\u001b[39m\u001b[38;5;124mhttps://mail.naver.com\u001b[39m\u001b[38;5;124m'\u001b[39m\u001b[38;5;124m]\u001b[39m\u001b[38;5;124m\"\u001b[39m)\u001b[38;5;241m.\u001b[39mclick()\n",
      "File \u001b[1;32m~\\anaconda3\\Lib\\site-packages\\selenium\\webdriver\\remote\\webdriver.py:738\u001b[0m, in \u001b[0;36mWebDriver.find_element\u001b[1;34m(self, by, value)\u001b[0m\n\u001b[0;32m    735\u001b[0m     by \u001b[38;5;241m=\u001b[39m By\u001b[38;5;241m.\u001b[39mCSS_SELECTOR\n\u001b[0;32m    736\u001b[0m     value \u001b[38;5;241m=\u001b[39m \u001b[38;5;124mf\u001b[39m\u001b[38;5;124m'\u001b[39m\u001b[38;5;124m[name=\u001b[39m\u001b[38;5;124m\"\u001b[39m\u001b[38;5;132;01m{\u001b[39;00mvalue\u001b[38;5;132;01m}\u001b[39;00m\u001b[38;5;124m\"\u001b[39m\u001b[38;5;124m]\u001b[39m\u001b[38;5;124m'\u001b[39m\n\u001b[1;32m--> 738\u001b[0m \u001b[38;5;28;01mreturn\u001b[39;00m \u001b[38;5;28mself\u001b[39m\u001b[38;5;241m.\u001b[39mexecute(Command\u001b[38;5;241m.\u001b[39mFIND_ELEMENT, {\u001b[38;5;124m\"\u001b[39m\u001b[38;5;124musing\u001b[39m\u001b[38;5;124m\"\u001b[39m: by, \u001b[38;5;124m\"\u001b[39m\u001b[38;5;124mvalue\u001b[39m\u001b[38;5;124m\"\u001b[39m: value})[\u001b[38;5;124m\"\u001b[39m\u001b[38;5;124mvalue\u001b[39m\u001b[38;5;124m\"\u001b[39m]\n",
      "File \u001b[1;32m~\\anaconda3\\Lib\\site-packages\\selenium\\webdriver\\remote\\webdriver.py:344\u001b[0m, in \u001b[0;36mWebDriver.execute\u001b[1;34m(self, driver_command, params)\u001b[0m\n\u001b[0;32m    342\u001b[0m response \u001b[38;5;241m=\u001b[39m \u001b[38;5;28mself\u001b[39m\u001b[38;5;241m.\u001b[39mcommand_executor\u001b[38;5;241m.\u001b[39mexecute(driver_command, params)\n\u001b[0;32m    343\u001b[0m \u001b[38;5;28;01mif\u001b[39;00m response:\n\u001b[1;32m--> 344\u001b[0m     \u001b[38;5;28mself\u001b[39m\u001b[38;5;241m.\u001b[39merror_handler\u001b[38;5;241m.\u001b[39mcheck_response(response)\n\u001b[0;32m    345\u001b[0m     response[\u001b[38;5;124m\"\u001b[39m\u001b[38;5;124mvalue\u001b[39m\u001b[38;5;124m\"\u001b[39m] \u001b[38;5;241m=\u001b[39m \u001b[38;5;28mself\u001b[39m\u001b[38;5;241m.\u001b[39m_unwrap_value(response\u001b[38;5;241m.\u001b[39mget(\u001b[38;5;124m\"\u001b[39m\u001b[38;5;124mvalue\u001b[39m\u001b[38;5;124m\"\u001b[39m, \u001b[38;5;28;01mNone\u001b[39;00m))\n\u001b[0;32m    346\u001b[0m     \u001b[38;5;28;01mreturn\u001b[39;00m response\n",
      "File \u001b[1;32m~\\anaconda3\\Lib\\site-packages\\selenium\\webdriver\\remote\\errorhandler.py:229\u001b[0m, in \u001b[0;36mErrorHandler.check_response\u001b[1;34m(self, response)\u001b[0m\n\u001b[0;32m    227\u001b[0m         alert_text \u001b[38;5;241m=\u001b[39m value[\u001b[38;5;124m\"\u001b[39m\u001b[38;5;124malert\u001b[39m\u001b[38;5;124m\"\u001b[39m]\u001b[38;5;241m.\u001b[39mget(\u001b[38;5;124m\"\u001b[39m\u001b[38;5;124mtext\u001b[39m\u001b[38;5;124m\"\u001b[39m)\n\u001b[0;32m    228\u001b[0m     \u001b[38;5;28;01mraise\u001b[39;00m exception_class(message, screen, stacktrace, alert_text)  \u001b[38;5;66;03m# type: ignore[call-arg]  # mypy is not smart enough here\u001b[39;00m\n\u001b[1;32m--> 229\u001b[0m \u001b[38;5;28;01mraise\u001b[39;00m exception_class(message, screen, stacktrace)\n",
      "\u001b[1;31mNoSuchElementException\u001b[0m: Message: no such element: Unable to locate element: {\"method\":\"xpath\",\"selector\":\"//*[@href='https://mail.naver.com']\"}\n  (Session info: chrome=116.0.5845.180); For documentation on this error, please visit: https://www.selenium.dev/documentation/webdriver/troubleshooting/errors#no-such-element-exception\nStacktrace:\n\tGetHandleVerifier [0x00007FF7FAE952A2+57122]\n\t(No symbol) [0x00007FF7FAE0EA92]\n\t(No symbol) [0x00007FF7FACDE3AB]\n\t(No symbol) [0x00007FF7FAD17D3E]\n\t(No symbol) [0x00007FF7FAD17E2C]\n\t(No symbol) [0x00007FF7FAD50B67]\n\t(No symbol) [0x00007FF7FAD3701F]\n\t(No symbol) [0x00007FF7FAD4EB82]\n\t(No symbol) [0x00007FF7FAD36DB3]\n\t(No symbol) [0x00007FF7FAD0D2B1]\n\t(No symbol) [0x00007FF7FAD0E494]\n\tGetHandleVerifier [0x00007FF7FB13EF82+2849794]\n\tGetHandleVerifier [0x00007FF7FB191D24+3189156]\n\tGetHandleVerifier [0x00007FF7FB18ACAF+3160367]\n\tGetHandleVerifier [0x00007FF7FAF26D06+653702]\n\t(No symbol) [0x00007FF7FAE1A208]\n\t(No symbol) [0x00007FF7FAE162C4]\n\t(No symbol) [0x00007FF7FAE163F6]\n\t(No symbol) [0x00007FF7FAE067A3]\n\tBaseThreadInitThunk [0x00007FFACE3026AD+29]\n\tRtlUserThreadStart [0x00007FFAD056AA68+40]\n"
     ]
    }
   ],
   "source": [
    "driver.find_element(By.XPATH, \"//*[@href='https://mail.naver.com']\").click()"
   ]
  },
  {
   "cell_type": "code",
   "execution_count": null,
   "id": "69ea38cc-5772-48fd-bbe5-08addfd15caf",
   "metadata": {
    "tags": []
   },
   "outputs": [],
   "source": [
    "driver.quit()"
   ]
  },
  {
   "cell_type": "code",
   "execution_count": null,
   "id": "bbc4d19e-d458-4d60-ad42-d470abf87d2f",
   "metadata": {},
   "outputs": [],
   "source": []
  }
 ],
 "metadata": {
  "kernelspec": {
   "display_name": "Python 3 (ipykernel)",
   "language": "python",
   "name": "python3"
  },
  "language_info": {
   "codemirror_mode": {
    "name": "ipython",
    "version": 3
   },
   "file_extension": ".py",
   "mimetype": "text/x-python",
   "name": "python",
   "nbconvert_exporter": "python",
   "pygments_lexer": "ipython3",
   "version": "3.11.3"
  }
 },
 "nbformat": 4,
 "nbformat_minor": 5
}
