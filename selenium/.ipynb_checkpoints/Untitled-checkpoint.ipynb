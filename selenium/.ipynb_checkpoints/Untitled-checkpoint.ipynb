{
 "cells": [
  {
   "cell_type": "code",
   "execution_count": 50,
   "id": "537c7604-f173-4c68-bce8-e158ce4a70dd",
   "metadata": {
    "tags": []
   },
   "outputs": [],
   "source": [
    "from selenium import webdriver\n",
    "from selenium.webdriver.common.by import By\n",
    "from selenium.webdriver.common.keys import Keys\n",
    "from selenium.webdriver.chrome.service import Service"
   ]
  },
  {
   "cell_type": "code",
   "execution_count": 68,
   "id": "f5cfea3f-ac37-4d4b-8396-fd503dc8018e",
   "metadata": {
    "tags": []
   },
   "outputs": [],
   "source": [
    "service = Service()\n",
    "options = webdriver.ChromeOptions()\n",
    "driver = webdriver.Chrome(service=service, options=options)\n",
    "driver.get(\"https://www.naver.com\")"
   ]
  },
  {
   "cell_type": "code",
   "execution_count": 69,
   "id": "d53c1867-67b0-4d79-8e86-028bf09fd644",
   "metadata": {
    "tags": []
   },
   "outputs": [],
   "source": [
    "driver.find_element(By.XPATH, \"//*[@href='https://nid.naver.com/nidlogin.login?mode=form&url=https://www.naver.com/']\").click()"
   ]
  },
  {
   "cell_type": "code",
   "execution_count": 70,
   "id": "0008eb09-9695-494b-abb1-1707de71bf68",
   "metadata": {
    "tags": []
   },
   "outputs": [],
   "source": [
    "driver.find_element(By.NAME, \"id\").send_keys(\"dong000403\")"
   ]
  },
  {
   "cell_type": "code",
   "execution_count": 71,
   "id": "b835f45a-a424-400c-a6b1-2339e4729cd8",
   "metadata": {
    "tags": []
   },
   "outputs": [],
   "source": [
    "driver.find_element(By.NAME, \"pw\").send_keys(\"ehdghks10251\")"
   ]
  },
  {
   "cell_type": "code",
   "execution_count": 65,
   "id": "cf4223b2-1ac3-4318-a3a0-1479d0f98235",
   "metadata": {
    "tags": []
   },
   "outputs": [],
   "source": [
    "driver.find_element(By.CLASS_NAME, \"btn_login\").click()"
   ]
  },
  {
   "cell_type": "code",
   "execution_count": 72,
   "id": "da687c1f-f52c-4351-bb98-af29719bf4ae",
   "metadata": {
    "tags": []
   },
   "outputs": [],
   "source": [
    "driver.find_element(By.XPATH, \"//*[@href='https://mail.naver.com']\").click()"
   ]
  },
  {
   "cell_type": "code",
   "execution_count": 73,
   "id": "69ea38cc-5772-48fd-bbe5-08addfd15caf",
   "metadata": {
    "tags": []
   },
   "outputs": [],
   "source": [
    "driver.quit()"
   ]
  },
  {
   "cell_type": "code",
   "execution_count": null,
   "id": "bbc4d19e-d458-4d60-ad42-d470abf87d2f",
   "metadata": {},
   "outputs": [],
   "source": []
  }
 ],
 "metadata": {
  "kernelspec": {
   "display_name": "Python 3 (ipykernel)",
   "language": "python",
   "name": "python3"
  },
  "language_info": {
   "codemirror_mode": {
    "name": "ipython",
    "version": 3
   },
   "file_extension": ".py",
   "mimetype": "text/x-python",
   "name": "python",
   "nbconvert_exporter": "python",
   "pygments_lexer": "ipython3",
   "version": "3.11.3"
  }
 },
 "nbformat": 4,
 "nbformat_minor": 5
}
