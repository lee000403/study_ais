{
 "cells": [
  {
   "cell_type": "markdown",
   "id": "d879fdc4-7cc4-46c7-b9fb-be15d8f56092",
   "metadata": {},
   "source": [
    "### Github signin"
   ]
  },
  {
   "cell_type": "code",
   "execution_count": 37,
   "id": "a7585bd9-6156-4c58-9827-3392a78a3f78",
   "metadata": {
    "tags": []
   },
   "outputs": [],
   "source": [
    "from selenium import webdriver\n",
    "from selenium.webdriver.common.by import By\n",
    "from selenium.webdriver.common.keys import Keys\n",
    "from selenium.webdriver.chrome.service import Service\n",
    "\n",
    "service = Service()\n",
    "options = webdriver.ChromeOptions()\n",
    "driver = webdriver.Chrome(service=service, options=options)\n",
    "driver.get(\"https://github.com\")"
   ]
  },
  {
   "cell_type": "code",
   "execution_count": 38,
   "id": "a633e449-f6e6-484b-968e-22839b1d113c",
   "metadata": {
    "tags": []
   },
   "outputs": [],
   "source": [
    "driver.find_element(By.CLASS_NAME, \"Button-label\").click()"
   ]
  },
  {
   "cell_type": "code",
   "execution_count": 40,
   "id": "c41d3b96-7d2d-4eb3-bba8-9823be9df3c6",
   "metadata": {
    "tags": []
   },
   "outputs": [],
   "source": [
    "driver.find_element(By.XPATH, \"//*['html/body/div[1]/div[1]/header/div/div[2]/div/div/div/a']\").click()"
   ]
  },
  {
   "cell_type": "code",
   "execution_count": 35,
   "id": "5929f4fa-fe68-4f14-9469-1639a4cef23e",
   "metadata": {
    "tags": []
   },
   "outputs": [
    {
     "ename": "NoSuchElementException",
     "evalue": "Message: no such element: Unable to locate element: {\"method\":\"css selector\",\"selector\":\"[name=\"login\"]\"}\n  (Session info: chrome=116.0.5845.180); For documentation on this error, please visit: https://www.selenium.dev/documentation/webdriver/troubleshooting/errors#no-such-element-exception\nStacktrace:\n\tGetHandleVerifier [0x00007FF7FAE952A2+57122]\n\t(No symbol) [0x00007FF7FAE0EA92]\n\t(No symbol) [0x00007FF7FACDE3AB]\n\t(No symbol) [0x00007FF7FAD17D3E]\n\t(No symbol) [0x00007FF7FAD17E2C]\n\t(No symbol) [0x00007FF7FAD50B67]\n\t(No symbol) [0x00007FF7FAD3701F]\n\t(No symbol) [0x00007FF7FAD4EB82]\n\t(No symbol) [0x00007FF7FAD36DB3]\n\t(No symbol) [0x00007FF7FAD0D2B1]\n\t(No symbol) [0x00007FF7FAD0E494]\n\tGetHandleVerifier [0x00007FF7FB13EF82+2849794]\n\tGetHandleVerifier [0x00007FF7FB191D24+3189156]\n\tGetHandleVerifier [0x00007FF7FB18ACAF+3160367]\n\tGetHandleVerifier [0x00007FF7FAF26D06+653702]\n\t(No symbol) [0x00007FF7FAE1A208]\n\t(No symbol) [0x00007FF7FAE162C4]\n\t(No symbol) [0x00007FF7FAE163F6]\n\t(No symbol) [0x00007FF7FAE067A3]\n\tBaseThreadInitThunk [0x00007FFACE3026AD+29]\n\tRtlUserThreadStart [0x00007FFAD056AA68+40]\n",
     "output_type": "error",
     "traceback": [
      "\u001b[1;31m---------------------------------------------------------------------------\u001b[0m",
      "\u001b[1;31mNoSuchElementException\u001b[0m                    Traceback (most recent call last)",
      "Cell \u001b[1;32mIn[35], line 1\u001b[0m\n\u001b[1;32m----> 1\u001b[0m driver\u001b[38;5;241m.\u001b[39mfind_element(By\u001b[38;5;241m.\u001b[39mNAME, \u001b[38;5;124m\"\u001b[39m\u001b[38;5;124mlogin\u001b[39m\u001b[38;5;124m\"\u001b[39m)\u001b[38;5;241m.\u001b[39msend_keys(\u001b[38;5;124m\"\u001b[39m\u001b[38;5;124mdong000403@gmail.com\u001b[39m\u001b[38;5;124m\"\u001b[39m)\n",
      "File \u001b[1;32m~\\anaconda3\\Lib\\site-packages\\selenium\\webdriver\\remote\\webdriver.py:738\u001b[0m, in \u001b[0;36mWebDriver.find_element\u001b[1;34m(self, by, value)\u001b[0m\n\u001b[0;32m    735\u001b[0m     by \u001b[38;5;241m=\u001b[39m By\u001b[38;5;241m.\u001b[39mCSS_SELECTOR\n\u001b[0;32m    736\u001b[0m     value \u001b[38;5;241m=\u001b[39m \u001b[38;5;124mf\u001b[39m\u001b[38;5;124m'\u001b[39m\u001b[38;5;124m[name=\u001b[39m\u001b[38;5;124m\"\u001b[39m\u001b[38;5;132;01m{\u001b[39;00mvalue\u001b[38;5;132;01m}\u001b[39;00m\u001b[38;5;124m\"\u001b[39m\u001b[38;5;124m]\u001b[39m\u001b[38;5;124m'\u001b[39m\n\u001b[1;32m--> 738\u001b[0m \u001b[38;5;28;01mreturn\u001b[39;00m \u001b[38;5;28mself\u001b[39m\u001b[38;5;241m.\u001b[39mexecute(Command\u001b[38;5;241m.\u001b[39mFIND_ELEMENT, {\u001b[38;5;124m\"\u001b[39m\u001b[38;5;124musing\u001b[39m\u001b[38;5;124m\"\u001b[39m: by, \u001b[38;5;124m\"\u001b[39m\u001b[38;5;124mvalue\u001b[39m\u001b[38;5;124m\"\u001b[39m: value})[\u001b[38;5;124m\"\u001b[39m\u001b[38;5;124mvalue\u001b[39m\u001b[38;5;124m\"\u001b[39m]\n",
      "File \u001b[1;32m~\\anaconda3\\Lib\\site-packages\\selenium\\webdriver\\remote\\webdriver.py:344\u001b[0m, in \u001b[0;36mWebDriver.execute\u001b[1;34m(self, driver_command, params)\u001b[0m\n\u001b[0;32m    342\u001b[0m response \u001b[38;5;241m=\u001b[39m \u001b[38;5;28mself\u001b[39m\u001b[38;5;241m.\u001b[39mcommand_executor\u001b[38;5;241m.\u001b[39mexecute(driver_command, params)\n\u001b[0;32m    343\u001b[0m \u001b[38;5;28;01mif\u001b[39;00m response:\n\u001b[1;32m--> 344\u001b[0m     \u001b[38;5;28mself\u001b[39m\u001b[38;5;241m.\u001b[39merror_handler\u001b[38;5;241m.\u001b[39mcheck_response(response)\n\u001b[0;32m    345\u001b[0m     response[\u001b[38;5;124m\"\u001b[39m\u001b[38;5;124mvalue\u001b[39m\u001b[38;5;124m\"\u001b[39m] \u001b[38;5;241m=\u001b[39m \u001b[38;5;28mself\u001b[39m\u001b[38;5;241m.\u001b[39m_unwrap_value(response\u001b[38;5;241m.\u001b[39mget(\u001b[38;5;124m\"\u001b[39m\u001b[38;5;124mvalue\u001b[39m\u001b[38;5;124m\"\u001b[39m, \u001b[38;5;28;01mNone\u001b[39;00m))\n\u001b[0;32m    346\u001b[0m     \u001b[38;5;28;01mreturn\u001b[39;00m response\n",
      "File \u001b[1;32m~\\anaconda3\\Lib\\site-packages\\selenium\\webdriver\\remote\\errorhandler.py:229\u001b[0m, in \u001b[0;36mErrorHandler.check_response\u001b[1;34m(self, response)\u001b[0m\n\u001b[0;32m    227\u001b[0m         alert_text \u001b[38;5;241m=\u001b[39m value[\u001b[38;5;124m\"\u001b[39m\u001b[38;5;124malert\u001b[39m\u001b[38;5;124m\"\u001b[39m]\u001b[38;5;241m.\u001b[39mget(\u001b[38;5;124m\"\u001b[39m\u001b[38;5;124mtext\u001b[39m\u001b[38;5;124m\"\u001b[39m)\n\u001b[0;32m    228\u001b[0m     \u001b[38;5;28;01mraise\u001b[39;00m exception_class(message, screen, stacktrace, alert_text)  \u001b[38;5;66;03m# type: ignore[call-arg]  # mypy is not smart enough here\u001b[39;00m\n\u001b[1;32m--> 229\u001b[0m \u001b[38;5;28;01mraise\u001b[39;00m exception_class(message, screen, stacktrace)\n",
      "\u001b[1;31mNoSuchElementException\u001b[0m: Message: no such element: Unable to locate element: {\"method\":\"css selector\",\"selector\":\"[name=\"login\"]\"}\n  (Session info: chrome=116.0.5845.180); For documentation on this error, please visit: https://www.selenium.dev/documentation/webdriver/troubleshooting/errors#no-such-element-exception\nStacktrace:\n\tGetHandleVerifier [0x00007FF7FAE952A2+57122]\n\t(No symbol) [0x00007FF7FAE0EA92]\n\t(No symbol) [0x00007FF7FACDE3AB]\n\t(No symbol) [0x00007FF7FAD17D3E]\n\t(No symbol) [0x00007FF7FAD17E2C]\n\t(No symbol) [0x00007FF7FAD50B67]\n\t(No symbol) [0x00007FF7FAD3701F]\n\t(No symbol) [0x00007FF7FAD4EB82]\n\t(No symbol) [0x00007FF7FAD36DB3]\n\t(No symbol) [0x00007FF7FAD0D2B1]\n\t(No symbol) [0x00007FF7FAD0E494]\n\tGetHandleVerifier [0x00007FF7FB13EF82+2849794]\n\tGetHandleVerifier [0x00007FF7FB191D24+3189156]\n\tGetHandleVerifier [0x00007FF7FB18ACAF+3160367]\n\tGetHandleVerifier [0x00007FF7FAF26D06+653702]\n\t(No symbol) [0x00007FF7FAE1A208]\n\t(No symbol) [0x00007FF7FAE162C4]\n\t(No symbol) [0x00007FF7FAE163F6]\n\t(No symbol) [0x00007FF7FAE067A3]\n\tBaseThreadInitThunk [0x00007FFACE3026AD+29]\n\tRtlUserThreadStart [0x00007FFAD056AA68+40]\n"
     ]
    }
   ],
   "source": [
    "driver.find_element(By.NAME, \"login\").send_keys(\"dong000403@gmail.com\")"
   ]
  },
  {
   "cell_type": "code",
   "execution_count": 15,
   "id": "d16f9508-aee7-49a4-aa4c-1cdedd4b4f64",
   "metadata": {
    "tags": []
   },
   "outputs": [],
   "source": [
    "driver.find_element(By.NAME, \"password\").send_keys(\"ehdghks10251!\")"
   ]
  },
  {
   "cell_type": "code",
   "execution_count": 16,
   "id": "227bbc5f-9c95-4198-a01c-b8bf2ea068c3",
   "metadata": {
    "tags": []
   },
   "outputs": [],
   "source": [
    "driver.find_element(By.NAME, \"commit\").click()"
   ]
  },
  {
   "cell_type": "code",
   "execution_count": null,
   "id": "445c6561-9388-4e88-bc63-61d095927c9a",
   "metadata": {},
   "outputs": [],
   "source": []
  }
 ],
 "metadata": {
  "kernelspec": {
   "display_name": "Python 3 (ipykernel)",
   "language": "python",
   "name": "python3"
  },
  "language_info": {
   "codemirror_mode": {
    "name": "ipython",
    "version": 3
   },
   "file_extension": ".py",
   "mimetype": "text/x-python",
   "name": "python",
   "nbconvert_exporter": "python",
   "pygments_lexer": "ipython3",
   "version": "3.11.3"
  }
 },
 "nbformat": 4,
 "nbformat_minor": 5
}
