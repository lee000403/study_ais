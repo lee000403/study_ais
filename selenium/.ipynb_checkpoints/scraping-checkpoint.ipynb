{
 "cells": [
  {
   "cell_type": "code",
   "execution_count": 1,
   "id": "97a8eeeb-0f55-4f10-b3bd-5126b7ae4a4b",
   "metadata": {
    "tags": []
   },
   "outputs": [],
   "source": [
    "from selenium import webdriver\n",
    "from selenium.webdriver.common.by import By\n",
    "from selenium.webdriver.common.keys import Keys\n",
    "from selenium.webdriver.chrome.service import Service\n",
    "import time"
   ]
  },
  {
   "cell_type": "code",
   "execution_count": 63,
   "id": "19277e96-108b-4ed9-a966-66ed53fb0857",
   "metadata": {
    "tags": []
   },
   "outputs": [],
   "source": [
    "service = Service()\n",
    "options = webdriver.ChromeOptions()\n",
    "driver = webdriver.Chrome(service=service, options=options)\n",
    "driver.get(\"https://a73.koreanz.xyz/bbs/board.php?bo_table=tvdrama&page=1\")"
   ]
  },
  {
   "cell_type": "code",
   "execution_count": 67,
   "id": "d4ab814c-7ace-4fde-9b1b-8177f5b099b2",
   "metadata": {
    "tags": []
   },
   "outputs": [
    {
     "ename": "IndexError",
     "evalue": "list index out of range",
     "output_type": "error",
     "traceback": [
      "\u001b[1;31m---------------------------------------------------------------------------\u001b[0m",
      "\u001b[1;31mInvalidSelectorException\u001b[0m                  Traceback (most recent call last)",
      "Cell \u001b[1;32mIn[67], line 14\u001b[0m\n\u001b[0;32m     12\u001b[0m program_listun \u001b[38;5;241m=\u001b[39m []\n\u001b[1;32m---> 14\u001b[0m program_listun\u001b[38;5;241m.\u001b[39mappend(driver\u001b[38;5;241m.\u001b[39mfind_element(By\u001b[38;5;241m.\u001b[39mXPATH, \u001b[38;5;124m'\u001b[39m\u001b[38;5;124m//*[@id=\u001b[39m\u001b[38;5;124m\"\u001b[39m\u001b[38;5;124mfboardlist\u001b[39m\u001b[38;5;124m\"\u001b[39m\u001b[38;5;124m]/div[1]/ul/li[1]/div[2]/a/text()\u001b[39m\u001b[38;5;124m'\u001b[39m))\n\u001b[0;32m     15\u001b[0m program_listun\u001b[38;5;241m.\u001b[39mappend(title[i]\u001b[38;5;241m.\u001b[39mget_attribute(\u001b[38;5;124m\"\u001b[39m\u001b[38;5;124minnerText\u001b[39m\u001b[38;5;124m\"\u001b[39m))\n",
      "File \u001b[1;32m~\\anaconda3\\Lib\\site-packages\\selenium\\webdriver\\remote\\webdriver.py:738\u001b[0m, in \u001b[0;36mWebDriver.find_element\u001b[1;34m(self, by, value)\u001b[0m\n\u001b[0;32m    736\u001b[0m     value \u001b[38;5;241m=\u001b[39m \u001b[38;5;124mf\u001b[39m\u001b[38;5;124m'\u001b[39m\u001b[38;5;124m[name=\u001b[39m\u001b[38;5;124m\"\u001b[39m\u001b[38;5;132;01m{\u001b[39;00mvalue\u001b[38;5;132;01m}\u001b[39;00m\u001b[38;5;124m\"\u001b[39m\u001b[38;5;124m]\u001b[39m\u001b[38;5;124m'\u001b[39m\n\u001b[1;32m--> 738\u001b[0m \u001b[38;5;28;01mreturn\u001b[39;00m \u001b[38;5;28mself\u001b[39m\u001b[38;5;241m.\u001b[39mexecute(Command\u001b[38;5;241m.\u001b[39mFIND_ELEMENT, {\u001b[38;5;124m\"\u001b[39m\u001b[38;5;124musing\u001b[39m\u001b[38;5;124m\"\u001b[39m: by, \u001b[38;5;124m\"\u001b[39m\u001b[38;5;124mvalue\u001b[39m\u001b[38;5;124m\"\u001b[39m: value})[\u001b[38;5;124m\"\u001b[39m\u001b[38;5;124mvalue\u001b[39m\u001b[38;5;124m\"\u001b[39m]\n",
      "File \u001b[1;32m~\\anaconda3\\Lib\\site-packages\\selenium\\webdriver\\remote\\webdriver.py:344\u001b[0m, in \u001b[0;36mWebDriver.execute\u001b[1;34m(self, driver_command, params)\u001b[0m\n\u001b[0;32m    343\u001b[0m \u001b[38;5;28;01mif\u001b[39;00m response:\n\u001b[1;32m--> 344\u001b[0m     \u001b[38;5;28mself\u001b[39m\u001b[38;5;241m.\u001b[39merror_handler\u001b[38;5;241m.\u001b[39mcheck_response(response)\n\u001b[0;32m    345\u001b[0m     response[\u001b[38;5;124m\"\u001b[39m\u001b[38;5;124mvalue\u001b[39m\u001b[38;5;124m\"\u001b[39m] \u001b[38;5;241m=\u001b[39m \u001b[38;5;28mself\u001b[39m\u001b[38;5;241m.\u001b[39m_unwrap_value(response\u001b[38;5;241m.\u001b[39mget(\u001b[38;5;124m\"\u001b[39m\u001b[38;5;124mvalue\u001b[39m\u001b[38;5;124m\"\u001b[39m, \u001b[38;5;28;01mNone\u001b[39;00m))\n",
      "File \u001b[1;32m~\\anaconda3\\Lib\\site-packages\\selenium\\webdriver\\remote\\errorhandler.py:229\u001b[0m, in \u001b[0;36mErrorHandler.check_response\u001b[1;34m(self, response)\u001b[0m\n\u001b[0;32m    228\u001b[0m     \u001b[38;5;28;01mraise\u001b[39;00m exception_class(message, screen, stacktrace, alert_text)  \u001b[38;5;66;03m# type: ignore[call-arg]  # mypy is not smart enough here\u001b[39;00m\n\u001b[1;32m--> 229\u001b[0m \u001b[38;5;28;01mraise\u001b[39;00m exception_class(message, screen, stacktrace)\n",
      "\u001b[1;31mInvalidSelectorException\u001b[0m: Message: invalid selector: The result of the xpath expression \"//*[@id=\"fboardlist\"]/div[1]/ul/li[1]/div[2]/a/text()\" is: [object Text]. It should be an element.\n  (Session info: chrome=116.0.5845.180); For documentation on this error, please visit: https://www.selenium.dev/documentation/webdriver/troubleshooting/errors#invalid-selector-exception\nStacktrace:\n\tGetHandleVerifier [0x00007FF6541852A2+57122]\n\t(No symbol) [0x00007FF6540FEA92]\n\t(No symbol) [0x00007FF653FCE3AB]\n\t(No symbol) [0x00007FF653FD2382]\n\t(No symbol) [0x00007FF653FD3D2F]\n\t(No symbol) [0x00007FF653FD3E20]\n\t(No symbol) [0x00007FF6540079B1]\n\t(No symbol) [0x00007FF654007E2C]\n\t(No symbol) [0x00007FF654040B67]\n\t(No symbol) [0x00007FF65402701F]\n\t(No symbol) [0x00007FF65403EB82]\n\t(No symbol) [0x00007FF654026DB3]\n\t(No symbol) [0x00007FF653FFD2B1]\n\t(No symbol) [0x00007FF653FFE494]\n\tGetHandleVerifier [0x00007FF65442EF82+2849794]\n\tGetHandleVerifier [0x00007FF654481D24+3189156]\n\tGetHandleVerifier [0x00007FF65447ACAF+3160367]\n\tGetHandleVerifier [0x00007FF654216D06+653702]\n\t(No symbol) [0x00007FF65410A208]\n\t(No symbol) [0x00007FF6541062C4]\n\t(No symbol) [0x00007FF6541063F6]\n\t(No symbol) [0x00007FF6540F67A3]\n\tBaseThreadInitThunk [0x00007FFC627826AD+29]\n\tRtlUserThreadStart [0x00007FFC62C0AA68+40]\n",
      "\nDuring handling of the above exception, another exception occurred:\n",
      "\u001b[1;31mIndexError\u001b[0m                                Traceback (most recent call last)",
      "Cell \u001b[1;32mIn[67], line 29\u001b[0m\n\u001b[0;32m     27\u001b[0m \u001b[38;5;28;01mexcept\u001b[39;00m:\n\u001b[0;32m     28\u001b[0m     program_listun \u001b[38;5;241m=\u001b[39m []\n\u001b[1;32m---> 29\u001b[0m     program_listun\u001b[38;5;241m.\u001b[39mappend(number[i]\u001b[38;5;241m.\u001b[39mget_attribute(\u001b[38;5;124m\"\u001b[39m\u001b[38;5;124minnerText\u001b[39m\u001b[38;5;124m\"\u001b[39m))\n\u001b[0;32m     30\u001b[0m     program_listun\u001b[38;5;241m.\u001b[39mappend(title[i]\u001b[38;5;241m.\u001b[39mget_attribute(\u001b[38;5;124m\"\u001b[39m\u001b[38;5;124minnerText\u001b[39m\u001b[38;5;124m\"\u001b[39m))\n\u001b[0;32m     31\u001b[0m     program_listun\u001b[38;5;241m.\u001b[39mappend(datetime2[i]\u001b[38;5;241m.\u001b[39mget_attribute(\u001b[38;5;124m\"\u001b[39m\u001b[38;5;124minnerText\u001b[39m\u001b[38;5;124m\"\u001b[39m))\n",
      "\u001b[1;31mIndexError\u001b[0m: list index out of range"
     ]
    }
   ],
   "source": [
    "len_item = driver.find_elements(By.XPATH, \"//*[@class='list-item']\")\n",
    "number = driver.find_elements(By.XPATH, '//*[@id=\"fboardlist\"]/div[1]/ul/li[1]/div')\n",
    "title = driver.find_elements(By.XPATH, \"//*[@class='item-subject']\")\n",
    "datetime = driver.find_elements(By.XPATH, \"//*[@class='orangered']\")\n",
    "datetime2 = driver.find_elements(By.XPATH, \"//*[@class='wr-date hidden-xs']\")\n",
    "views = driver.find_elements(By.XPATH, \"//*[@class='wr-hit hidden-xs']\")\n",
    "program_list = []\n",
    "\n",
    "for page in range(2, 10):\n",
    "    for i in range(len(len_item)):\n",
    "        try:\n",
    "            program_listun = []\n",
    "            \n",
    "            program_listun.append(driver.find_element(By.XPATH, '//*[@id=\"fboardlist\"]/div[1]/ul/li[1]/div[2]/a/text()'))\n",
    "            program_listun.append(title[i].get_attribute(\"innerText\"))\n",
    "            program_listun.append(datetime[i].get_attribute(\"innerText\"))\n",
    "            program_listun.append(views[i].get_attribute(\"innerText\"))\n",
    "\n",
    "            #title[i].click()\n",
    "            #time.sleep(3)\n",
    "            #link_drama = driver.find_elements(By.XPATH, \"//*[@target='_blank']\")\n",
    "            # for j in range(len(link_drama)):\n",
    "            #     program_listun.append(link_drama[j].get_attribute(\"href\"))\n",
    "            #driver.back()\n",
    "            #time.sleep(3)\n",
    "            program_list.append(program_listun)   \n",
    "        except:\n",
    "            program_listun = []\n",
    "            program_listun.append(number[i].get_attribute(\"innerText\"))\n",
    "            program_listun.append(title[i].get_attribute(\"innerText\"))\n",
    "            program_listun.append(datetime2[i].get_attribute(\"innerText\"))\n",
    "            program_listun.append(views[i].get_attribute(\"innerText\"))\n",
    "            program_list.append(program_listun)\n",
    "\n",
    "            #title[i].click()\n",
    "            #time.sleep(3)\n",
    "            #link_drama = driver.find_elements(By.XPATH, \"//*[@target='_blank']\")\n",
    "            # for j in range(len(link_drama)):\n",
    "            #     program_listun.append(link_drama[j].get_attribute(\"href\"))\n",
    "            #driver.back()\n",
    "            #time.sleep(3)\n",
    "            program_list.append(program_listun)\n",
    "    driver.get(\"https://a73.koreanz.xyz/bbs/board.php?bo_table=tvdrama&page={}\".format(page))\n",
    "    time.sleep(10)\n",
    "print(program_list)"
   ]
  },
  {
   "cell_type": "code",
   "execution_count": null,
   "id": "3a5f9713-f04f-492a-b6c9-f383359770d6",
   "metadata": {},
   "outputs": [],
   "source": []
  }
 ],
 "metadata": {
  "kernelspec": {
   "display_name": "Python 3 (ipykernel)",
   "language": "python",
   "name": "python3"
  },
  "language_info": {
   "codemirror_mode": {
    "name": "ipython",
    "version": 3
   },
   "file_extension": ".py",
   "mimetype": "text/x-python",
   "name": "python",
   "nbconvert_exporter": "python",
   "pygments_lexer": "ipython3",
   "version": "3.11.3"
  }
 },
 "nbformat": 4,
 "nbformat_minor": 5
}
